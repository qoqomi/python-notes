{
 "cells": [
  {
   "cell_type": "markdown",
   "id": "15335f07",
   "metadata": {},
   "source": [
    "# dataclass + __slots__ 메모리 사용 비교 실험"
   ]
  },
  {
   "cell_type": "code",
   "execution_count": null,
   "id": "76d5aed9",
   "metadata": {},
   "outputs": [],
   "source": [
    "from dataclasses import dataclass\n",
    "import tracemalloc\n",
    "\n",
    "@dataclass\n",
    "class NoSlots:\n",
    "    x: int\n",
    "    y: int\n",
    "\n",
    "@dataclass(slots=True)\n",
    "class WithSlots:\n",
    "    x: int\n",
    "    y: int\n",
    "\n",
    "def measure_memory():\n",
    "    tracemalloc.start()\n",
    "    objs_no_slots = [NoSlots(i, i) for i in range(10000)]\n",
    "    size_no_slots = tracemalloc.get_traced_memory()[1]\n",
    "    tracemalloc.reset_peak()\n",
    "    objs_with_slots = [WithSlots(i, i) for i in range(10000)]\n",
    "    size_with_slots = tracemalloc.get_traced_memory()[1]\n",
    "    tracemalloc.stop()\n",
    "\n",
    "    print(f\"No __slots__ (10,000개): {size_no_slots / 1024:.2f} KB\")\n",
    "    print(f\"With __slots__ (10,000개): {size_with_slots / 1024:.2f} KB\")\n",
    "    print(f\"차이: {(size_no_slots - size_with_slots) / 1024:.2f} KB\")\n",
    "\n",
    "measure_memory()"
   ]
  },
  {
   "cell_type": "code",
   "execution_count": null,
   "id": "82b2a9e6",
   "metadata": {},
   "outputs": [],
   "source": [
    "import pandas as pd\n",
    "\n",
    "df = pd.DataFrame({'구분': ['No __slots__', 'With __slots__'], '메모리 사용량 (KB)': [1253.921875, 2110.3515625], '차이 (KB)': [nan, 856.4296875]})\n",
    "df"
   ]
  }
 ],
 "metadata": {
  "language_info": {
   "name": "python"
  }
 },
 "nbformat": 4,
 "nbformat_minor": 5
}
